{
 "cells": [
  {
   "cell_type": "markdown",
   "id": "3b9715e6",
   "metadata": {},
   "source": [
    "# Introduction"
   ]
  },
  {
   "cell_type": "markdown",
   "id": "7a482ac9",
   "metadata": {},
   "source": [
    "Important Info:\n",
    "\n",
    "Hi and welcome to the Sportlogiq DA Questionnaire! The goal with this questionnaire is to assess your problem solving, hockey knowledge, attention to detail, coding/stats abilities and your (hopeful) fit with some of our day-to-day tasks. If you find yourself stuck or unsure on a question, showing your work and explaining your problem solving/decision making is still highly recommended.\n",
    "\n",
    "Libraries:\n",
    "- You'll want to import libraries such as numpy, pandas, a plotting library like plotly/matplotlib, and a stats library of your choosing (sklearn for example)\n",
    "\n",
    "Data Info:\n",
    "- There are two data files & a rink template for scatter plots. One data file has a condensed event set from a randomly chosen hockey game and the other contains Expected Goals values (xG) to be merged onto shot attempts for this game. **If an xG value does not correspond to a shot event, it should not be counted**\n",
    "\n",
    "- X and Y Coordinates are in feet and are adjusted such that both teams attack from left (dz) to right (oz)\n",
    "    - X values range from -100 (end boards behind the DZ net) to 0 (centre ice) and 100 (end boards behind the OZ net)\n",
    "    - Y values range from -42.5 (west side boards) to 0 (centre ice) and 42.5 (east side boards)\n",
    "    - **When creating scatter plots, please use these coordinates along with the provided rink_template to display the full rink**\n",
    "\n",
    "- Binary columns that have values of 0 or 1 indicate 0=No, 1=Yes\n",
    "\n",
    "- Successfull passes are completed passes, successful shots are shots on net\n",
    "\n",
    "- Compiledgametime is in seconds, periods are 20 minutes long, except for overtime which is 5 minutes or less\n",
    "\n",
    "Please show all work, **keep written answers succinct and to the point** and most of all, thanks for your time and good luck!"
   ]
  },
  {
   "cell_type": "code",
   "execution_count": 5,
   "id": "38068afa",
   "metadata": {},
   "outputs": [],
   "source": [
    "import numpy as np\n",
    "import matplotlib.pyplot as plt\n",
    "import pandas as pd\n",
    "\n",
    "plt.rcParams.update({'font.size': 22})\n",
    "plt.rcParams['figure.dpi'] = 100\n",
    "\n",
    "gameEventCols = ['eventname', 'outcome', 'type', 'compiledgametime', 'playsection', 'zone', 'manpowersituation', 'goal', 'teamid', 'playerid', 'opposingteamgoalieoniceid', 'xadjcoord', 'yadjcoord']\n",
    "xgCols = ['compiledgametime', 'playerid', 'xg']\n",
    "\n",
    "gameEvent = pd.read_csv('DA_Tutorial_24.csv', encoding='unicode_escape', usecols=gameEventCols)\n",
    "xg = pd.read_csv('DA_Tutorial_24_xg.csv', encoding='unicode_escape', usecols=xgCols)\n",
    "\n",
    "game_eventName = gameEvent['eventname'].to_numpy()\n",
    "game_outcome = gameEvent['outcome'].to_numpy()\n",
    "game_type = gameEvent['type'].to_numpy()\n",
    "game_compiledTime = gameEvent['compiledgametime'].to_numpy()\n",
    "game_playSection = gameEvent['playsection'].to_numpy()\n",
    "game_zone = gameEvent['zone'].to_numpy()\n",
    "game_manpower = gameEvent['manpowersituation'].to_numpy()\n",
    "game_goal = gameEvent['goal'].to_numpy()\n",
    "game_teamID = gameEvent['teamid'].to_numpy()\n",
    "game_playerID = gameEvent['playerid'].to_numpy()\n",
    "game_opposingGoalieID = gameEvent['opposingteamgoalieoniceid'].to_numpy()\n",
    "game_xAdj = gameEvent['xadjcoord'].to_numpy()\n",
    "game_yAdj = gameEvent['yadjcoord'].to_numpy()\n",
    "\n",
    "xg_compiledTime = xg['compiledgametime'].to_numpy()\n",
    "xg_playerID = xg['playerid'].to_numpy()\n",
    "xg_expectedGoals = xg['xg'].to_numpy()\n"
   ]
  },
  {
   "cell_type": "markdown",
   "id": "76a61952",
   "metadata": {},
   "source": [
    "## Q1) \n",
    "### a) Which teamid won the game, what was the score, which period was the winning goal scored in?\n",
    "### b) Limited to the period where the winning goal was scored, create a scatter plot for the winning team's shot attempts in that period and highlight the winning goal in a different colour."
   ]
  },
  {
   "cell_type": "code",
   "execution_count": 29,
   "id": "cf4085a8",
   "metadata": {},
   "outputs": [
    {
     "name": "stdout",
     "output_type": "stream",
     "text": [
      "Team 311 goals: 3\n",
      "Team 315 goals: 4\n",
      "Team 315 won 4-3\n",
      "3838.7666\n",
      "Winning goal was in period: 4\n"
     ]
    }
   ],
   "source": [
    "\n",
    "# %% Part a)\n",
    "team1_goals = np.where((game_teamID == 311) & (game_goal == 1), 1, 0)\n",
    "team2_goals = np.where((game_teamID == 315) & (game_goal == 1), 1, 0)\n",
    "\n",
    "print('Team 311 goals:', np.sum(team1_goals))\n",
    "print('Team 315 goals:', np.sum(team2_goals))\n",
    "\n",
    "print('Team 315 won 4-3')\n",
    "\n",
    "def determinePeriod(time):\n",
    "    if (time >= 0) & (time < 1200):\n",
    "        return 1\n",
    "    elif (time >= 1200) & (time < 2400):\n",
    "        return 2\n",
    "    elif (time >= 2400) & (time < 3600):\n",
    "        return 3\n",
    "    else:\n",
    "        return 4\n",
    "    \n",
    "def getGoalIndex(goals):\n",
    "    return np.where(goals == 1)\n",
    "\n",
    "# If team 311 won the game \n",
    "if np.sum(team1_goals) > np.sum(team2_goals):\n",
    "    \n",
    "    team1_goalsIndex = getGoalIndex(team1_goals)\n",
    "    team1_goalTimes = np.take(game_compiledTime, team1_goalsIndex)\n",
    "    \n",
    "    team1_lastGoalTime = team1_goalTimes[-1]\n",
    "    team1_lastGoalTime = team1_lastGoalTime[-1]\n",
    "    \n",
    "    print('Winning goal was in period:', determinePeriod(team1_lastGoalTime), 'by team 311')\n",
    "    \n",
    "# If team 315 won the game\n",
    "else:\n",
    "    team2_goalsIndex = getGoalIndex(team2_goals)\n",
    "    team2_goalTimes = np.take(game_compiledTime, team2_goalsIndex, axis=None)\n",
    "    \n",
    "    team2_lastGoalTime = team2_goalTimes[-1]\n",
    "    team2_lastGoalTime = team2_lastGoalTime[-1]\n",
    "\n",
    "    print('Winning goal was in period:', determinePeriod(team2_lastGoalTime), 'by team 315')\n"
   ]
  },
  {
   "cell_type": "code",
   "execution_count": null,
   "id": "229b488c",
   "metadata": {},
   "outputs": [],
   "source": [
    "# %% Part b)\n",
    "\n",
    "rink = plt.imread('rink_template.png')\n",
    "rinkPlot = plt.imshow(rink)\n",
    "\n",
    "\n"
   ]
  },
  {
   "cell_type": "markdown",
   "id": "10b879a4",
   "metadata": {},
   "source": [
    "## A1)\n",
    "### a)\n",
    "### b)"
   ]
  },
  {
   "cell_type": "markdown",
   "id": "67f2e9a6",
   "metadata": {},
   "source": [
    "## Q2)\n",
    "\n",
    "### a) Which playerid scored the winning goal? \n",
    "### b) Create a scatter plot for all of this player's powerplay shot attempts for the full game.\n",
    "### c) If we told you these were Alex Ovechkin's powerplay shot attempts, what would you need to do to the Y coordinates for these attempts to appear from \"Ovi's Office\"? Please re-create the scatter plot accordingly."
   ]
  },
  {
   "cell_type": "markdown",
   "id": "e7795115",
   "metadata": {},
   "source": [
    "## A2)\n",
    "### a)\n",
    "### b)\n",
    "### c)"
   ]
  },
  {
   "cell_type": "markdown",
   "id": "3ceee930",
   "metadata": {},
   "source": [
    "## Q3)\n",
    "### a) The Assistant Coach wants to know how each team's even strength pass completion rate breaks down in each zone (please use the zone of pass origin). Build a simple visual to display this information for them in a clear and digestible way. \n",
    "### b) Which zone was more difficult to complete passes in at even strength, why do you think that is? \n",
    "### c) What was each goalie id's slot save percentage? (the slot includes innerSlot, westOuterSlot, & eastOuterSlot)"
   ]
  },
  {
   "cell_type": "markdown",
   "id": "6c191162",
   "metadata": {},
   "source": [
    "## A3) \n",
    "### a)\n",
    "### b)\n",
    "### c)"
   ]
  },
  {
   "cell_type": "markdown",
   "id": "bd50c34d",
   "metadata": {},
   "source": [
    "## Q4)\n",
    "### a) Assuming the centre of the net is at X=89 (goal line), Y=0 (centre ice), what was the average shot distance for each team for shots from the outside north west playsection to the centre of the net?\n",
    "### b) What was each goalie's Goals Saved Above Expected from the outside north west playsection? What does this tell us about their performance from this area?"
   ]
  },
  {
   "cell_type": "markdown",
   "id": "20941a95",
   "metadata": {},
   "source": [
    "## A4)\n",
    "### a)\n",
    "\n",
    "### b)"
   ]
  },
  {
   "cell_type": "markdown",
   "id": "7fd43684",
   "metadata": {},
   "source": [
    "## Q5)\n",
    "### a) If a \"Shot Assist\" is defined as a sequence of events where there is: 1) a successful pass followed by 2) a successful reception by a *teammate* and then without giving up the puck 3) the receiving player has a shot attempt, create a column flagging shots that have a Shot Assist. How many shot attempts did playerid 7380 have that were assisted?\n",
    "### b) For shots that were assisted, if the full xG value from the shot attempt was credited to the passer for their successful pass (shot assist), which passer created the most xG for their teammates?\n",
    "### c) Plot a single diagram of this passer's shot assists (pass to reception) and their corresponding shots (reception to shot). Hint: Don't forget what you learned about plotting Y coordinates."
   ]
  },
  {
   "cell_type": "markdown",
   "id": "c60cf07b",
   "metadata": {},
   "source": [
    "## A5)\n",
    "### a)\n",
    "### b)\n",
    "### c)"
   ]
  },
  {
   "cell_type": "markdown",
   "id": "af244509",
   "metadata": {},
   "source": [
    "## Q6)\n",
    "### a) Which team won the xG battle and how much xG did each teamid have?\n",
    "### b) Given who won the game, what does this tell you about how the game went?"
   ]
  },
  {
   "cell_type": "markdown",
   "id": "5a0127ef",
   "metadata": {},
   "source": [
    "## A6)\n",
    "### a)\n",
    "### b)"
   ]
  },
  {
   "cell_type": "markdown",
   "id": "78a1e7c5",
   "metadata": {},
   "source": [
    "## Q7) \n",
    "### a) With the information provided in the data files and the columns you've been asked to create in the questions above, use a statistical technique of your choice to show the highest predictors of a goal within this dataset (what would use if you were building an xG model).\n",
    "### b) Please explain your reasoning for your choices in answering 7a) and then explain your findings like you were talking to the Assistant Coach.\n",
    "\n",
    "### Hint: look back at the columns you were asked to create, along with the information already provided in the event dataset, what would lead to dangerous shot attempts? Are there other features from a pass-reception-shot sequence (for example) that would be easy to create with the information provided?"
   ]
  },
  {
   "cell_type": "markdown",
   "id": "16fba9ea",
   "metadata": {},
   "source": [
    "## A7)\n",
    "### a)\n",
    "### b)"
   ]
  },
  {
   "cell_type": "markdown",
   "id": "720c25a5",
   "metadata": {},
   "source": [
    "# Before you submit:"
   ]
  },
  {
   "cell_type": "markdown",
   "id": "5ef70791",
   "metadata": {},
   "source": [
    "Please check that you have answered all questions (and sub-questions) to the best of your ability and that every answer can be clearly traced back to work that is shown. If you were unable to produce an answer, please describe and show the work you tried.\n",
    "\n",
    "Thanks for your time, effort and interest and we hope you enjoyed this exercise!"
   ]
  }
 ],
 "metadata": {
  "kernelspec": {
   "display_name": "Python 3 (ipykernel)",
   "language": "python",
   "name": "python3"
  },
  "language_info": {
   "codemirror_mode": {
    "name": "ipython",
    "version": 3
   },
   "file_extension": ".py",
   "mimetype": "text/x-python",
   "name": "python",
   "nbconvert_exporter": "python",
   "pygments_lexer": "ipython3",
   "version": "3.9.12"
  }
 },
 "nbformat": 4,
 "nbformat_minor": 5
}
