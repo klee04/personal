{
 "cells": [
  {
   "cell_type": "markdown",
   "id": "3b9715e6",
   "metadata": {},
   "source": [
    "# Introduction"
   ]
  },
  {
   "cell_type": "markdown",
   "id": "7a482ac9",
   "metadata": {},
   "source": [
    "Important Info:\n",
    "\n",
    "Hi and welcome to the Sportlogiq DA Questionnaire! The goal with this questionnaire is to assess your problem solving, hockey knowledge, attention to detail, coding/stats abilities and your (hopeful) fit with some of our day-to-day tasks. If you find yourself stuck or unsure on a question, showing your work and explaining your problem solving/decision making is still highly recommended.\n",
    "\n",
    "Libraries:\n",
    "- You'll want to import libraries such as numpy, pandas, a plotting library like plotly/matplotlib, and a stats library of your choosing (sklearn for example)\n",
    "\n",
    "Data Info:\n",
    "- There are two data files & a rink template for scatter plots. One data file has a condensed event set from a randomly chosen hockey game and the other contains Expected Goals values (xG) to be merged onto shot attempts for this game. **If an xG value does not correspond to a shot event, it should not be counted**\n",
    "\n",
    "- X and Y Coordinates are in feet and are adjusted such that both teams attack from left (dz) to right (oz)\n",
    "    - X values range from -100 (end boards behind the DZ net) to 0 (centre ice) and 100 (end boards behind the OZ net)\n",
    "    - Y values range from -42.5 (west side boards) to 0 (centre ice) and 42.5 (east side boards)\n",
    "    - **When creating scatter plots, please use these coordinates along with the provided rink_template to display the full rink**\n",
    "\n",
    "- Binary columns that have values of 0 or 1 indicate 0=No, 1=Yes\n",
    "\n",
    "- Successfull passes are completed passes, successful shots are shots on net\n",
    "\n",
    "- Compiledgametime is in seconds, periods are 20 minutes long, except for overtime which is 5 minutes or less\n",
    "\n",
    "Please show all work, **keep written answers succinct and to the point** and most of all, thanks for your time and good luck!"
   ]
  },
  {
   "cell_type": "code",
   "execution_count": null,
   "id": "38068afa",
   "metadata": {},
   "outputs": [],
   "source": [
    "import numpy as np\n",
    "import matplotlib.pyplot as plt\n",
    "import pandas as pd\n",
    "\n",
    "plt.rcParams.update({'font.size': 22})\n",
    "plt.rcParams['figure.dpi'] = 100\n",
    "\n",
    "gameEventCols = ['eventname', 'outcome', 'type', 'compiledgametime', 'playsection', 'zone', 'manpowersituation', 'goal', 'teamid', 'playerid', 'opposingteamgoalieoniceid', 'xadjcoord', 'yadjcoord']\n",
    "xgCols = ['compiledgametime', 'playerid', 'xg']\n",
    "\n",
    "gameEvent = pd.read_csv('DA_Tutorial_24.csv', encoding='unicode_escape', usecols=gameEventCols)\n",
    "xg = pd.read_csv('DA_Tutorial_24_xg.csv', encoding='unicode_escape', usecols=xgCols)\n",
    "\n",
    "game_eventName = gameEvent['eventname'].to_numpy()\n",
    "game_outcome = gameEvent['outcome'].to_numpy()\n",
    "game_type = gameEvent['type'].to_numpy()\n",
    "game_compiledTime = gameEvent['compiledgametime'].to_numpy()\n",
    "game_playSection = gameEvent['playsection'].to_numpy()\n",
    "game_zone = gameEvent['zone'].to_numpy()\n",
    "game_manpower = gameEvent['manpowersituation'].to_numpy()\n",
    "game_goal = gameEvent['goal'].to_numpy()\n",
    "game_teamID = gameEvent['teamid'].to_numpy()\n",
    "game_playerID = gameEvent['playerid'].to_numpy()\n",
    "game_opposingGoalieID = gameEvent['opposingteamgoalieoniceid'].to_numpy()\n",
    "game_xAdj = gameEvent['xadjcoord'].to_numpy()\n",
    "game_yAdj = gameEvent['yadjcoord'].to_numpy()\n",
    "\n",
    "xg_compiledTime = xg['compiledgametime'].to_numpy()\n",
    "xg_playerID = xg['playerid'].to_numpy()\n",
    "xg_expectedGoals = xg['xg'].to_numpy()"
   ]
  },
  {
   "cell_type": "markdown",
   "id": "76a61952",
   "metadata": {},
   "source": [
    "## Q1) \n",
    "### a) Which teamid won the game, what was the score, which period was the winning goal scored in?\n",
    "### b) Limited to the period where the winning goal was scored, create a scatter plot for the winning team's shot attempts in that period and highlight the winning goal in a different colour."
   ]
  },
  {
   "cell_type": "code",
   "execution_count": null,
   "id": "cf4085a8",
   "metadata": {},
   "outputs": [],
   "source": [
    "# Q1 Part a)\n",
    "team1_goals = np.where((game_teamID == 311) & (game_goal == 1), 1, 0)\n",
    "team2_goals = np.where((game_teamID == 315) & (game_goal == 1), 1, 0)\n",
    "\n",
    "print('Team 311 goals:', np.sum(team1_goals))\n",
    "print('Team 315 goals:', np.sum(team2_goals))\n",
    "\n",
    "def determinePeriod(time):\n",
    "    if (time >= 0) & (time < 1200):\n",
    "        return 1\n",
    "    elif (time >= 1200) & (time < 2400):\n",
    "        return 2\n",
    "    elif (time >= 2400) & (time < 3600):\n",
    "        return 3\n",
    "    else:\n",
    "        return 4\n",
    "    \n",
    "def getGoalsIndex(goals):\n",
    "    return np.where(goals == 1)[0]\n",
    "\n",
    "game_totalTime = 0\n",
    "\n",
    "# If team 311 won the game \n",
    "if np.sum(team1_goals) > np.sum(team2_goals):\n",
    "    \n",
    "    team1_goalsIndex = getGoalsIndex(team1_goals)\n",
    "    team1_goalTimes = np.take(game_compiledTime, team1_goalsIndex)\n",
    "    \n",
    "    team1_lastGoalTime = team1_goalTimes[-1]\n",
    "    \n",
    "    print('Winning goal was in period', determinePeriod(team1_lastGoalTime), 'by team 311')\n",
    "    game_totalTime = team1_lastGoalTime\n",
    "# If team 315 won the game\n",
    "else:\n",
    "    team2_goalsIndex = getGoalsIndex(team2_goals)\n",
    "    team2_goalTimes = np.take(game_compiledTime, team2_goalsIndex, axis=None)\n",
    "    \n",
    "    team2_lastGoalTime = team2_goalTimes[-1]\n",
    "\n",
    "    print('Winning goal was in period', determinePeriod(team2_lastGoalTime), 'by team 315')\n",
    "    game_totalTime = team2_lastGoalTime"
   ]
  },
  {
   "cell_type": "code",
   "execution_count": null,
   "id": "229b488c",
   "metadata": {},
   "outputs": [],
   "source": [
    "# Q1 Part b)\n",
    "plt.figure(figsize=(20, 10))\n",
    "\n",
    "rink = plt.imread('rink_template.png')\n",
    "rinkPlot = plt.imshow(rink, aspect='auto', extent=[-100, 100, -42.5, 42.5])\n",
    "\n",
    "# Team 315 shots in overtime where overtime is over 3600 game seconds\n",
    "team2_shots = np.where((game_teamID == 315) & (game_eventName == 'shot') & (game_compiledTime > 3600))[0]\n",
    "\n",
    "shots_x_coords = np.take(game_xAdj, team2_shots)\n",
    "shots_y_coords = np.take(game_yAdj, team2_shots)\n",
    "\n",
    "plt.scatter(shots_x_coords, shots_y_coords, c='r', s=75)\n",
    "\n",
    "# Winning Goal index\n",
    "team2_goals = np.where((game_teamID == 315) & (game_goal == 1))[0]\n",
    "\n",
    "shots_gameWinner_x_coords = np.take(game_xAdj, team2_goals)\n",
    "shots_gameWinner_y_coords = np.take(game_yAdj, team2_goals)\n",
    "\n",
    "# Last goal was the winning goal\n",
    "plt.scatter(shots_gameWinner_x_coords[-1], shots_gameWinner_y_coords[-1], c='g', s=75)\n",
    "\n",
    "plt.show()"
   ]
  },
  {
   "cell_type": "markdown",
   "id": "10b879a4",
   "metadata": {},
   "source": [
    "## A1)\n",
    "### a) Team 315 won the game. The score was 4-3 for Team 315. The winning goal was in overtime (Period 4).\n",
    "### b) Refer to code section above. ![image info](Q1partb.png)\n"
   ]
  },
  {
   "cell_type": "markdown",
   "id": "67f2e9a6",
   "metadata": {},
   "source": [
    "## Q2)\n",
    "\n",
    "### a) Which playerid scored the winning goal? \n",
    "### b) Create a scatter plot for all of this player's powerplay shot attempts for the full game.\n",
    "### c) If we told you these were Alex Ovechkin's powerplay shot attempts, what would you need to do to the Y coordinates for these attempts to appear from \"Ovi's Office\"? Please re-create the scatter plot accordingly."
   ]
  },
  {
   "cell_type": "code",
   "execution_count": null,
   "id": "8a5ee9ca",
   "metadata": {},
   "outputs": [],
   "source": [
    "# Q2 Part a)\n",
    "game_scoredWinningGoal = np.where((game_teamID == 315) & (game_goal == 1) & (game_compiledTime > 3600))[0]\n",
    "\n",
    "player_scoredWinningGoal = np.take(game_playerID, game_scoredWinningGoal)[0]\n",
    "\n",
    "print('Player with the ID', player_scoredWinningGoal, 'scored the winning goal for team 315')"
   ]
  },
  {
   "cell_type": "code",
   "execution_count": null,
   "id": "f960e89d",
   "metadata": {},
   "outputs": [],
   "source": [
    "# Q2 Part b) \n",
    "plt.figure(figsize=(20, 10))\n",
    "\n",
    "rinkPlot = plt.imshow(rink, aspect='auto', extent=[-100, 100, -42.5, 42.5])\n",
    "\n",
    "player_shots = np.where((game_playerID == player_scoredWinningGoal) & (game_eventName == 'shot') & (game_manpower == 'powerPlay'))[0]\n",
    "\n",
    "print('Player with ID', player_scoredWinningGoal ,'had', len(player_shots), 'power play shot attempts.')\n",
    "\n",
    "player_shots_x_coords = np.take(game_xAdj, player_shots)\n",
    "player_shots_y_coords = np.take(game_yAdj, player_shots)\n",
    "\n",
    "plt.scatter(player_shots_x_coords, player_shots_y_coords, c='r', s=75)\n",
    "\n",
    "plt.show()"
   ]
  },
  {
   "cell_type": "code",
   "execution_count": null,
   "id": "31eec8b8",
   "metadata": {},
   "outputs": [],
   "source": [
    "# Q2 part c)\n",
    "''' \n",
    "Using this rink layout, Ovi's office should be around ~ y = 25 since Ovi\n",
    "is right-handed and should be shooting from the left side of the rink \n",
    "during a power play. Therefore, the y-coordinates would have to be reflected \n",
    "to the other side of the ice (so multiply by -1) to make it look like these \n",
    "were Ovi's shots. Shown below is the updated plot for Ovi.\n",
    "'''\n",
    "\n",
    "plt.figure(figsize=(20, 10))\n",
    "\n",
    "rinkPlot = plt.imshow(rink, aspect='auto', extent=[-100, 100, -42.5, 42.5])\n",
    "\n",
    "plt.scatter(player_shots_x_coords, -player_shots_y_coords, c='r', s=75)\n",
    "\n",
    "plt.show()"
   ]
  },
  {
   "cell_type": "markdown",
   "id": "e7795115",
   "metadata": {},
   "source": [
    "## A2)\n",
    "### a) Player ID 81408 for Team 315\n",
    "### b) Player 81408 had 15 shot attempts while on a power play. Refer to Code shown above. ![image info](Q2partb.png)\n",
    "### c) If Player 81408 was Ovi, then the y coordinates would have to be reflected upwards (multipied by -1) since Ovi is right handed but plays on the opposite side (left side) during a power play to recieve one timers. Updated plot shown below.![image info](Q2partc.png)\n"
   ]
  },
  {
   "cell_type": "markdown",
   "id": "3ceee930",
   "metadata": {},
   "source": [
    "## Q3)\n",
    "### a) The Assistant Coach wants to know how each team's even strength pass completion rate breaks down in each zone (please use the zone of pass origin). Build a simple visual to display this information for them in a clear and digestible way. \n",
    "### b) Which zone was more difficult to complete passes in at even strength, why do you think that is? \n",
    "### c) What was each goalie id's slot save percentage? (the slot includes innerSlot, westOuterSlot, & eastOuterSlot)"
   ]
  },
  {
   "cell_type": "code",
   "execution_count": null,
   "id": "31d8d392",
   "metadata": {},
   "outputs": [],
   "source": [
    "# Q3 part a) \n",
    "\n",
    "def passCompletionRate(team, zone):\n",
    "    totalPasses = np.where((game_teamID == team) & (game_eventName == 'pass') & (game_zone == zone))[0]\n",
    "    completedPasses = np.where((game_teamID == team) & (game_eventName == 'pass') & (game_zone == zone) & (game_outcome == 'successful'))[0]\n",
    "    return len(completedPasses) / len(totalPasses)\n",
    "\n",
    "team1_rate_dz = passCompletionRate(311, 'dz')\n",
    "team1_rate_nz = passCompletionRate(311, 'nz')\n",
    "team1_rate_oz = passCompletionRate(311, 'oz')\n",
    "\n",
    "team2_rate_dz = passCompletionRate(315, 'dz')\n",
    "team2_rate_nz = passCompletionRate(315, 'nz')\n",
    "team2_rate_oz = passCompletionRate(315, 'oz')\n",
    "\n",
    "fig, ax = plt.subplots(figsize=(20, 14))\n",
    "\n",
    "df = pd.DataFrame({\n",
    "    'Teams': ['Team 311', 'Team 315'],\n",
    "    'Defensive Zone': [team1_rate_dz, team2_rate_dz],\n",
    "    'Neutral Zone': [team1_rate_nz, team2_rate_nz],\n",
    "    'Offensive Zone': [team1_rate_oz, team2_rate_oz]\n",
    "})\n",
    "\n",
    "df.plot(x='Teams', y = ['Defensive Zone', 'Neutral Zone', 'Offensive Zone'],kind='bar', rot=0, ax=ax)\n",
    "\n",
    "for container in ax.containers:\n",
    "    ax.bar_label(container, labels=[f'{x:,.2f}' for x in container.datavalues])\n",
    "\n",
    "ax.set_ylabel('Pass Completion Rate', fontsize=20)\n",
    "ax.set_title('Pass Completion Rate by Zone for each Team', fontsize=24)\n",
    "ax.set_xlabel('Teams', fontsize=20)"
   ]
  },
  {
   "cell_type": "code",
   "execution_count": null,
   "id": "216ef8b5",
   "metadata": {},
   "outputs": [],
   "source": [
    "team1_goalieID = 5152\n",
    "team2_goalieID = 80264\n",
    "\n",
    "def slotSavePercentage(team):\n",
    "    team_shots = np.where((game_teamID == team) & (game_eventName == 'shot') & (game_type == 'slot'))[0]\n",
    "    goalie_saves = np.where((game_teamID == team) & (game_eventName == 'shot') & (game_type == 'slot') & (game_goal == 0))[0]\n",
    "    \n",
    "    return len(goalie_saves) / len(team_shots)\n",
    "\n",
    "print('Team 311 goalie with ID', team1_goalieID, 'had a slot save percentage of', round(slotSavePercentage(315), 3),'%')\n",
    "print('Team 315 goalie with ID', team2_goalieID, 'had a slot save percentage of', round(slotSavePercentage(311), 3),'%')"
   ]
  },
  {
   "cell_type": "markdown",
   "id": "6c191162",
   "metadata": {},
   "source": [
    "## A3) \n",
    "### a) ![image info](Q3parta.png)\n",
    "### b) While playing at even strength, the lowest rate of pass completon for both teams was in the offense zone. This makes sense as teams while defending tend to block passing lanes and become more aggressive, making passing in the offensive zone more challenging but more rewarding as making more passes makes the goaltender move more. \n",
    "### c) Goalie ID 5152 slot save percentage = 0.960%. \n",
    "###     Goalie ID 80264 slot save percentage = 0.909%."
   ]
  },
  {
   "cell_type": "markdown",
   "id": "bd50c34d",
   "metadata": {},
   "source": [
    "## Q4)\n",
    "### a) Assuming the centre of the net is at X=89 (goal line), Y=0 (centre ice), what was the average shot distance for each team for shots from the outside north west playsection to the centre of the net?\n",
    "### b) What was each goalie's Goals Saved Above Expected from the outside north west playsection? What does this tell us about their performance from this area?"
   ]
  },
  {
   "cell_type": "code",
   "execution_count": null,
   "id": "bac5ce9e",
   "metadata": {},
   "outputs": [],
   "source": [
    "# Q4 part a)\n",
    "def averageDistanceSection(teamID):\n",
    "    team_shot_oustideNW = np.where((game_teamID == teamID) & (game_eventName == 'shot') & (game_playSection == 'outsideNorthWest'))[0]\n",
    "    team_shot_x_coords = np.take(game_xAdj, team_shot_oustideNW)\n",
    "    team_shot_y_coords = np.take(game_yAdj, team_shot_oustideNW)\n",
    "    \n",
    "    return np.sqrt((89 - np.mean(team_shot_x_coords))**2 + (0 - np.mean(team_shot_y_coords))**2)\n",
    "\n",
    "print(averageDistanceSection(311))\n",
    "print(averageDistanceSection(315))"
   ]
  },
  {
   "cell_type": "code",
   "execution_count": 37,
   "id": "724e320e",
   "metadata": {},
   "outputs": [
    {
     "name": "stdout",
     "output_type": "stream",
     "text": [
      "[  38.633335 1885.2333   2027.2333   2125.2334   3223.4      3401.\n",
      " 3416.1333   3517.4     ]\n",
      "0.36969612492248305\n"
     ]
    }
   ],
   "source": [
    "# Q4 part b)\n",
    "\n",
    "\n",
    "team1_shot_outsideNW = np.where((game_teamID == 311) & (game_eventName == 'shot') & (game_playSection == 'outsideNorthWest'))[0]\n",
    "team2_shot_outsideNW = np.where((game_teamID == 315) & (game_eventName == 'shot') & (game_playSection == 'outsideNorthWest'))[0]\n",
    "\n",
    "team1_time_outsideNW = np.take(game_compiledTime, team1_shot_outsideNW)\n",
    "team2_time_outsideNW = np.take(game_compiledTime, team2_shot_outsideNW)\n",
    "\n",
    "print(team1_time_outsideNW)\n",
    "\n",
    "shot_occourances = np.in1d(xg_compiledTime, team1_time_outsideNW)\n",
    "\n",
    "team1_xg_outsideNW = np.take(xg_expectedGoals, np.where(shot_occourances))[0]\n",
    "\n",
    "print(np.sum(team1_xg_outsideNW))\n"
   ]
  },
  {
   "cell_type": "markdown",
   "id": "20941a95",
   "metadata": {},
   "source": [
    "## A4)\n",
    "### a)\n",
    "\n",
    "### b)"
   ]
  },
  {
   "cell_type": "markdown",
   "id": "7fd43684",
   "metadata": {},
   "source": [
    "## Q5)\n",
    "### a) If a \"Shot Assist\" is defined as a sequence of events where there is: 1) a successful pass followed by 2) a successful reception by a *teammate* and then without giving up the puck 3) the receiving player has a shot attempt, create a column flagging shots that have a Shot Assist. How many shot attempts did playerid 7380 have that were assisted?\n",
    "### b) For shots that were assisted, if the full xG value from the shot attempt was credited to the passer for their successful pass (shot assist), which passer created the most xG for their teammates?\n",
    "### c) Plot a single diagram of this passer's shot assists (pass to reception) and their corresponding shots (reception to shot). Hint: Don't forget what you learned about plotting Y coordinates."
   ]
  },
  {
   "cell_type": "markdown",
   "id": "c60cf07b",
   "metadata": {},
   "source": [
    "## A5)\n",
    "### a)\n",
    "### b)\n",
    "### c)"
   ]
  },
  {
   "cell_type": "markdown",
   "id": "af244509",
   "metadata": {},
   "source": [
    "## Q6)\n",
    "### a) Which team won the xG battle and how much xG did each teamid have?\n",
    "### b) Given who won the game, what does this tell you about how the game went?"
   ]
  },
  {
   "cell_type": "markdown",
   "id": "5a0127ef",
   "metadata": {},
   "source": [
    "## A6)\n",
    "### a)\n",
    "### b)"
   ]
  },
  {
   "cell_type": "markdown",
   "id": "78a1e7c5",
   "metadata": {},
   "source": [
    "## Q7) \n",
    "### a) With the information provided in the data files and the columns you've been asked to create in the questions above, use a statistical technique of your choice to show the highest predictors of a goal within this dataset (what would use if you were building an xG model).\n",
    "### b) Please explain your reasoning for your choices in answering 7a) and then explain your findings like you were talking to the Assistant Coach.\n",
    "\n",
    "### Hint: look back at the columns you were asked to create, along with the information already provided in the event dataset, what would lead to dangerous shot attempts? Are there other features from a pass-reception-shot sequence (for example) that would be easy to create with the information provided?"
   ]
  },
  {
   "cell_type": "markdown",
   "id": "16fba9ea",
   "metadata": {},
   "source": [
    "## A7)\n",
    "### a)\n",
    "### b)"
   ]
  },
  {
   "cell_type": "markdown",
   "id": "720c25a5",
   "metadata": {},
   "source": [
    "# Before you submit:"
   ]
  },
  {
   "cell_type": "markdown",
   "id": "5ef70791",
   "metadata": {},
   "source": [
    "Please check that you have answered all questions (and sub-questions) to the best of your ability and that every answer can be clearly traced back to work that is shown. If you were unable to produce an answer, please describe and show the work you tried.\n",
    "\n",
    "Thanks for your time, effort and interest and we hope you enjoyed this exercise!"
   ]
  }
 ],
 "metadata": {
  "kernelspec": {
   "display_name": "Python 3 (ipykernel)",
   "language": "python",
   "name": "python3"
  },
  "language_info": {
   "codemirror_mode": {
    "name": "ipython",
    "version": 3
   },
   "file_extension": ".py",
   "mimetype": "text/x-python",
   "name": "python",
   "nbconvert_exporter": "python",
   "pygments_lexer": "ipython3",
   "version": "3.9.12"
  }
 },
 "nbformat": 4,
 "nbformat_minor": 5
}
